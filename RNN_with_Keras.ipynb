{
 "cells": [
  {
   "cell_type": "markdown",
   "metadata": {},
   "source": [
    "# RNN(Recurrent Neural Networks)\n",
    "\n",
    "- exploit the sequential nature of inputs"
   ]
  },
  {
   "cell_type": "code",
   "execution_count": 4,
   "metadata": {},
   "outputs": [
    {
     "name": "stderr",
     "output_type": "stream",
     "text": [
      "Using TensorFlow backend.\n"
     ]
    }
   ],
   "source": [
    "from __future__ import print_function\n",
    "from keras.layers import Dense, Activation\n",
    "from keras.layers.recurrent import SimpleRNN\n",
    "from keras.models import Sequential\n",
    "from keras.utils import plot_model\n",
    "import numpy as np"
   ]
  },
  {
   "cell_type": "code",
   "execution_count": 5,
   "metadata": {},
   "outputs": [],
   "source": [
    "fin = open(\"./11.txt\",'rb')\n",
    "lines = []\n",
    "for line in fin:\n",
    "    line = line.strip().lower()\n",
    "    line = line.decode(\"ascii\",\"ignore\")\n",
    "    if len(line) == 0:\n",
    "        continue\n",
    "    lines.append(line)\n",
    "fin.close()\n",
    "text = \" \".join(lines)"
   ]
  },
  {
   "cell_type": "code",
   "execution_count": 6,
   "metadata": {},
   "outputs": [],
   "source": [
    "chars = set([c for c in text])\n",
    "nb_chars = len(chars)\n",
    "char2index = dict((c, i) for i, c in enumerate(chars))\n",
    "index2char = dict((i, c) for i, c in enumerate(chars))"
   ]
  },
  {
   "cell_type": "code",
   "execution_count": 7,
   "metadata": {},
   "outputs": [],
   "source": [
    "SEQLEN = 10\n",
    "STEP = 1\n",
    "\n",
    "input_chars = []\n",
    "label_chars = []\n",
    "for i in range(0, len(text) - SEQLEN, STEP):\n",
    "    input_chars.append(text[i:i + SEQLEN])\n",
    "    label_chars.append(text[i + SEQLEN])"
   ]
  },
  {
   "cell_type": "code",
   "execution_count": 8,
   "metadata": {},
   "outputs": [],
   "source": [
    "X = np.zeros((len(input_chars), SEQLEN, nb_chars), dtype=np.bool)\n",
    "y = np.zeros((len(input_chars), nb_chars), dtype=np.bool)\n",
    "for i, input_char in enumerate(input_chars):\n",
    "    for j, ch in enumerate(input_char):\n",
    "        X[i, j, char2index[ch]] = 1\n",
    "    y[i, char2index[label_chars[i]]] = 1"
   ]
  },
  {
   "cell_type": "code",
   "execution_count": 9,
   "metadata": {},
   "outputs": [
    {
     "name": "stdout",
     "output_type": "stream",
     "text": [
      "(161793, 10, 57)\n",
      "(161793, 57)\n"
     ]
    }
   ],
   "source": [
    "print(X.shape)\n",
    "print(y.shape)"
   ]
  },
  {
   "cell_type": "code",
   "execution_count": 15,
   "metadata": {},
   "outputs": [
    {
     "name": "stderr",
     "output_type": "stream",
     "text": [
      "W0708 15:18:48.191367 140294456661760 deprecation_wrapper.py:119] From /Home2/smryoo/.local/lib/python3.5/site-packages/keras/backend/tensorflow_backend.py:3295: The name tf.log is deprecated. Please use tf.math.log instead.\n",
      "\n"
     ]
    }
   ],
   "source": [
    "HIDDEN_SIZE = 128\n",
    "BATCH_SIZE = 128\n",
    "NUM_ITERATIONS = 25\n",
    "NUM_EPOCHS_PER_ITERATION = 1\n",
    "NUM_PREDS_PER_EPOCH = 100\n",
    "\n",
    "model = Sequential()\n",
    "model.add(SimpleRNN(HIDDEN_SIZE, return_sequences=False, input_shape=(SEQLEN, nb_chars), unroll=True))\n",
    "model.add(Dense(nb_chars))\n",
    "model.add(Activation(\"softmax\"))\n",
    "\n",
    "model.compile(loss=\"categorical_crossentropy\", optimizer=\"rmsprop\")"
   ]
  },
  {
   "cell_type": "code",
   "execution_count": 16,
   "metadata": {},
   "outputs": [
    {
     "name": "stderr",
     "output_type": "stream",
     "text": [
      "W0708 15:18:58.191748 140294456661760 deprecation.py:323] From /Home2/smryoo/.local/lib/python3.5/site-packages/tensorflow/python/ops/math_grad.py:1250: add_dispatch_support.<locals>.wrapper (from tensorflow.python.ops.array_ops) is deprecated and will be removed in a future version.\n",
      "Instructions for updating:\n",
      "Use tf.where in 2.0, which has the same broadcast rule as np.where\n"
     ]
    },
    {
     "name": "stdout",
     "output_type": "stream",
     "text": [
      "==================================================\n",
      "Iteration #: 0\n"
     ]
    },
    {
     "name": "stderr",
     "output_type": "stream",
     "text": [
      "W0708 15:18:58.302700 140294456661760 deprecation_wrapper.py:119] From /Home2/smryoo/.local/lib/python3.5/site-packages/keras/backend/tensorflow_backend.py:986: The name tf.assign_add is deprecated. Please use tf.compat.v1.assign_add instead.\n",
      "\n"
     ]
    },
    {
     "name": "stdout",
     "output_type": "stream",
     "text": [
      "Epoch 1/1\n",
      "161793/161793 [==============================] - 3s 17us/step - loss: 2.3676\n",
      "Generating from seed:  old,' said\n",
      "old,' said the cout on the treand the project guteng the coust got ing the coust got ing the coust got ing the==================================================\n",
      "Iteration #: 1\n",
      "Epoch 1/1\n",
      "161793/161793 [==============================] - 3s 16us/step - loss: 2.0648\n",
      "Generating from seed:  rg 1.e.2. \n",
      "rg 1.e.2. 'whe sad in the sadded the sadded the sadded the sadded the sadded the sadded the sadded the sadded ==================================================\n",
      "Iteration #: 2\n",
      "Epoch 1/1\n",
      "161793/161793 [==============================] - 3s 16us/step - loss: 1.9606\n",
      "Generating from seed:  nd saying \n",
      "nd saying the project gutenberg-tm and alice seat and the sare the the sard alice the sare the the sard alice ==================================================\n",
      "Iteration #: 3\n",
      "Epoch 1/1\n",
      "161793/161793 [==============================] - 3s 16us/step - loss: 1.8796\n",
      "Generating from seed:  ted states\n",
      "ted states and the she she she she she she she she she she she she she she she she she she she she she she she==================================================\n",
      "Iteration #: 4\n",
      "Epoch 1/1\n",
      "161793/161793 [==============================] - 3s 16us/step - loss: 1.8115\n",
      "Generating from seed:  d a bright\n",
      "d a bright anded the rabeed the caterpillare the one the rabeed the caterpillare the one the rabeed the caterp==================================================\n",
      "Iteration #: 5\n",
      "Epoch 1/1\n",
      "161793/161793 [==============================] - 3s 16us/step - loss: 1.7564\n",
      "Generating from seed:  very dull!\n",
      "very dull!' 'the round the more the sare alice said the king to the she had har her was and the sare alice sai==================================================\n",
      "Iteration #: 6\n",
      "Epoch 1/1\n",
      "161793/161793 [==============================] - 3s 16us/step - loss: 1.7102\n",
      "Generating from seed:   tails fas\n",
      " tails fas it the said the catere whit a conter the courded the had the had the had the had the had the had th==================================================\n",
      "Iteration #: 7\n",
      "Epoch 1/1\n",
      "161793/161793 [==============================] - 3s 16us/step - loss: 1.6707\n",
      "Generating from seed:  ://www.gut\n",
      "://www.gutenberg the parched all the said to the said to the said to the said to the said to the said to the s==================================================\n",
      "Iteration #: 8\n",
      "Epoch 1/1\n",
      "161793/161793 [==============================] - 3s 16us/step - loss: 1.6365\n",
      "Generating from seed:  h, if--if \n",
      "h, if--if i sagh a done to not the courted to not little she had the courted to not little she had the courted==================================================\n",
      "Iteration #: 9\n",
      "Epoch 1/1\n",
      "161793/161793 [==============================] - 3s 16us/step - loss: 1.6077\n",
      "Generating from seed:  ubscribe t\n",
      "ubscribe the works and the could her her her her her her her her her her her her her her her her her her her h==================================================\n",
      "Iteration #: 10\n",
      "Epoch 1/1\n",
      "161793/161793 [==============================] - 3s 16us/step - loss: 1.5828\n",
      "Generating from seed:  't swim, c\n",
      "'t swim, contired the mors of the sore of the sore of the sore of the sore of the sore of the sore of the sore==================================================\n",
      "Iteration #: 11\n",
      "Epoch 1/1\n",
      "161793/161793 [==============================] - 3s 16us/step - loss: 1.5604\n",
      "Generating from seed:  g-tm trade\n",
      "g-tm trades the said to herself and the mouse the mouse the mouse the mouse the mouse the mouse the mouse the ==================================================\n",
      "Iteration #: 12\n",
      "Epoch 1/1\n",
      "161793/161793 [==============================] - 3s 16us/step - loss: 1.5413\n",
      "Generating from seed:  ast it unf\n",
      "ast it unforther as the had for of the works of the works of the works of the works of the works of the works ==================================================\n",
      "Iteration #: 13\n",
      "Epoch 1/1\n",
      "161793/161793 [==============================] - 3s 16us/step - loss: 1.5224\n",
      "Generating from seed:  , this gen\n",
      ", this genters works to the she had the little the little the little the little the little the little the litt==================================================\n",
      "Iteration #: 14\n",
      "Epoch 1/1\n",
      "161793/161793 [==============================] - 3s 16us/step - loss: 1.5083\n",
      "Generating from seed:  ho seemed \n",
      "ho seemed to her electronic works to in a they wat had the dothing to her electronic works to in a they wat ha==================================================\n",
      "Iteration #: 15\n",
      "Epoch 1/1\n",
      "161793/161793 [==============================] - 2s 15us/step - loss: 1.4920\n",
      "Generating from seed:  vide volun\n",
      "vide volunered the gryphon alice the gryphon alice the gryphon alice the gryphon alice the gryphon alice the g==================================================\n",
      "Iteration #: 16\n",
      "Epoch 1/1\n",
      "161793/161793 [==============================] - 2s 15us/step - loss: 1.4801\n",
      "Generating from seed:  ogether.' \n",
      "ogether.' 'i don't know the mouse to the said to the work of the mouse to the said to the work of the mouse to==================================================\n",
      "Iteration #: 17\n",
      "Epoch 1/1\n",
      "161793/161793 [==============================] - 2s 15us/step - loss: 1.4676\n",
      "Generating from seed:  a very res\n",
      "a very restons the door a great the door a great the door a great the door a great the door a great the door a==================================================\n",
      "Iteration #: 18\n",
      "Epoch 1/1\n",
      "161793/161793 [==============================] - 2s 15us/step - loss: 1.4558\n",
      "Generating from seed:  go anythin\n",
      "go anything to the dormouse so she said to the mors contion the white rabbit how the white rabbit how the whit==================================================\n",
      "Iteration #: 19\n",
      "Epoch 1/1\n",
      "161793/161793 [==============================] - 2s 15us/step - loss: 1.4477\n",
      "Generating from seed:  g in a hel\n",
      "g in a held have heard the march hare a long the dormouse she went on went on went on went on went on went on ==================================================\n",
      "Iteration #: 20\n",
      "Epoch 1/1\n",
      "161793/161793 [==============================] - 2s 15us/step - loss: 1.4364\n",
      "Generating from seed:  ht alice. \n",
      "ht alice. 'i don't go was a long the look at the mock turtle in the dormouse in the dormouse in the dormouse i==================================================\n",
      "Iteration #: 21\n",
      "Epoch 1/1\n",
      "161793/161793 [==============================] - 2s 15us/step - loss: 1.4288\n",
      "Generating from seed:  nswer with\n",
      "nswer with the dormouse so the said to herself, 'she was the caterpillar at and the more to her for the said t==================================================\n",
      "Iteration #: 22\n",
      "Epoch 1/1\n",
      "161793/161793 [==============================] - 2s 15us/step - loss: 1.4208\n",
      "Generating from seed:  oung crab,\n",
      "oung crab, a little beaked a little beaked a little beaked a little beaked a little beaked a little beaked a l==================================================\n",
      "Iteration #: 23\n",
      "Epoch 1/1\n",
      "161793/161793 [==============================] - 2s 15us/step - loss: 1.4138\n",
      "Generating from seed:  o hear it \n",
      "o hear it was the treed to her all remarked. 'what some to me sound it had for some to the to could not to the==================================================\n",
      "Iteration #: 24\n",
      "Epoch 1/1\n",
      "161793/161793 [==============================] - 2s 15us/step - loss: 1.4063\n",
      "Generating from seed:  what fun!'\n",
      "what fun!' the mory of the poor little bottle of the poor little bottle of the poor little bottle of the poor \n"
     ]
    }
   ],
   "source": [
    "for iteration in range(NUM_ITERATIONS):\n",
    "    print(\"=\" * 50)\n",
    "    print(\"Iteration #: %d\" %(iteration))\n",
    "    model.fit(X, y, batch_size=BATCH_SIZE, epochs=NUM_EPOCHS_PER_ITERATION)\n",
    "    \n",
    "    test_idx = np.random.randint(len(input_chars))\n",
    "    test_chars = input_chars[test_idx]\n",
    "    print(\"Generating from seed: \", test_chars)\n",
    "    print(test_chars, end=\"\")\n",
    "    for i in range(NUM_PREDS_PER_EPOCH):\n",
    "        Xtest = np.zeros((1, SEQLEN, nb_chars))\n",
    "        for i, ch in enumerate(test_chars):\n",
    "            Xtest[0, i, char2index[ch]] = 1\n",
    "        pred = model.predict(Xtest, verbose=0)[0]\n",
    "        ypred = index2char[np.argmax(pred)]\n",
    "        print(ypred, end=\"\")\n",
    "        #move forward with test_chars + ypred\n",
    "        test_chars = test_chars[1:] + ypred\n",
    "print() "
   ]
  },
  {
   "cell_type": "code",
   "execution_count": null,
   "metadata": {},
   "outputs": [],
   "source": []
  }
 ],
 "metadata": {
  "kernelspec": {
   "display_name": "Python 3",
   "language": "python",
   "name": "python3"
  },
  "language_info": {
   "codemirror_mode": {
    "name": "ipython",
    "version": 3
   },
   "file_extension": ".py",
   "mimetype": "text/x-python",
   "name": "python",
   "nbconvert_exporter": "python",
   "pygments_lexer": "ipython3",
   "version": "3.5.2"
  }
 },
 "nbformat": 4,
 "nbformat_minor": 2
}
